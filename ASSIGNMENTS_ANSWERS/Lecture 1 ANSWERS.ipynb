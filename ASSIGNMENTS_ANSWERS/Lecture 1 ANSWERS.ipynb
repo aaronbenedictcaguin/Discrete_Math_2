{
 "cells": [
  {
   "cell_type": "markdown",
   "metadata": {},
   "source": [
    "Aaron Benedict N. Caguin\n",
    "\n",
    "BSCS-1\n",
    "\n",
    "23101479\n",
    "\n",
    "---"
   ]
  },
  {
   "cell_type": "markdown",
   "metadata": {},
   "source": [
    "$\\textbf{Assignment}$ for Lecture 1:"
   ]
  },
  {
   "cell_type": "markdown",
   "metadata": {},
   "source": [
    "1. Recall the definition of a rational number, denoted as $\\mathbb{Q}$. Prove that the Euler's number $e = \\Sigma_{k=0}^\\infty \\frac{1}{k!} \\notin \\mathbb{Q}$. A factorial is defined as $k! = (k)(k-1)(k-2)(k-3)..., \\forall k \\in \\mathbb{Z}^+$, note that $0! = 1$. Furthermore, a sum notation $\\Sigma_{k=0}^\\infty k = 0+ 1 + 2 + 3 +....+...$\n",
    "\n",
    "To prove that Euler's number $ e $ is not rational, we can use a proof by contradiction. Suppose $ e $ is rational, meaning it can be expressed as a fraction $ \\frac{p}{q} $ where $ p $ and $ q $ are integers with no common factors other than 1, and $ q \\neq 0 $.\n",
    "\n",
    "The Taylor series expansion of $ e $ is:\n",
    "\n",
    "$ e = \\sum_{k=0}^\\infty \\frac{1}{k!} = 1 + \\frac{1}{1!} + \\frac{1}{2!} + \\frac{1}{3!} + \\cdots $\n",
    "\n",
    "Now, let's denote the sum of the first $ n $ terms of the series as $ S_n $:\n",
    "\n",
    "$ S_n = 1 + \\frac{1}{1!} + \\frac{1}{2!} + \\frac{1}{3!} + \\cdots + \\frac{1}{n!} $\n",
    "\n",
    "We'll now multiply both sides of this equation by $ q! $, which is a positive integer for all $ q \\geq 0 $:\n",
    "\n",
    "$ q! \\cdot S_n = q! + q! \\frac{1}{1!} + q! \\frac{1}{2!} + q! \\frac{1}{3!} + \\cdots + q! \\frac{1}{n!} $\n",
    "\n",
    "This can be rewritten as:\n",
    "\n",
    "$ q! \\cdot S_n = q! + q! + \\frac{q!}{2!} + \\frac{q!}{3!} + \\cdots + \\frac{q!}{n!} $\n",
    "\n",
    "Notice that each term in the sum is an integer since it's a product of integers. Therefore, $ q! \\cdot S_n $ is an integer.\n",
    "\n",
    "Now, if $ e $ were rational, there would exist some integer $ N $ such that for all $ n \\geq N $, $ S_n = \\frac{p}{q} $, where $ p $ and $ q $ are integers with no common factors other than 1.\n",
    "\n",
    "But we've just shown that $ q! \\cdot S_n $ is always an integer. Therefore, for any choice of $ N $, there exists $ n \\geq N $ such that $ q! \\cdot S_n $ is not equal to $ p $, which contradicts the assumption that $ e $ is rational.\n",
    "\n",
    "Hence, Euler's number $ e $ is irrational.\n",
    "\n",
    "---"
   ]
  },
  {
   "cell_type": "markdown",
   "metadata": {},
   "source": [
    "2. Prove Minkowski's Inequality for sums, $\\forall \\ p>1, (a_k, b_k)>0$:\n",
    "\n",
    "We want to prove Minkowski's Inequality for sums:\n",
    "\\[ $\\left(\\sum_{k=1}^n |a_k + b_k|^p\\right)^\\frac{1}{p} \\leq \\left(\\sum_{k=1}^n |a_k|^p\\right)^\\frac{1}{p} + \\left(\\sum_{k=1}^n |b_k|^p\\right)^\\frac{1}{p} $\\]\n",
    "\n",
    "$\\textit{Proof:}$\n",
    "\n",
    "Here we prove using Hölder's inequality. Let $q$ be the conjugate exponent of $p$ (i.e., $\\frac{1}{p} + \\frac{1}{q} = 1$).\n",
    "\n",
    "Apply Hölder's inequality with $p$ and $q$ to the sequences $(|a_k|^p)$ and $(1)$, and to the sequences $(|b_k|^p)$ and $(1)$:\n",
    "\n",
    "\\[ $\\sum_{k=1}^n |a_k|^p \\cdot 1 \\leq \\left(\\sum_{k=1}^n |a_k|^p\\right)^\\frac{1}{p} \\left(\\sum_{k=1}^n 1^q\\right)^\\frac{1}{q} = \\left(\\sum_{k=1}^n |a_k|^p\\right)^\\frac{1}{p} \\cdot n^\\frac{1}{q} $\\]\n",
    "\\[ $\\sum_{k=1}^n |b_k|^p \\cdot 1 \\leq \\left(\\sum_{k=1}^n |b_k|^p\\right)^\\frac{1}{p} \\left(\\sum_{k=1}^n 1^q\\right)^\\frac{1}{q} = \\left(\\sum_{k=1}^n |b_k|^p\\right)^\\frac{1}{p} \\cdot n^\\frac{1}{q} $\\]\n",
    "\n",
    "Add these inequalities:\n",
    "\n",
    "\\[ $\\sum_{k=1}^n |a_k|^p + \\sum_{k=1}^n |b_k|^p \\leq \\left(\\sum_{k=1}^n |a_k|^p\\right)^\\frac{1}{p} \\cdot n^\\frac{1}{q} + \\left(\\sum_{k=1}^n |b_k|^p\\right)^\\frac{1}{p} \\cdot n^\\frac{1}{q} $\\]\n",
    "\n",
    "\\[ $\\sum_{k=1}^n (|a_k|^p + |b_k|^p) \\leq \\left(\\sum_{k=1}^n |a_k|^p\\right)^\\frac{1}{p} \\cdot n^\\frac{1}{q} + \\left(\\sum_{k=1}^n |b_k|^p\\right)^\\frac{1}{p} \\cdot n^\\frac{1}{q} $\\]\n",
    "\n",
    "Now, raise both sides to the power of $\\frac{1}{p}$:\n",
    "\n",
    "\\[ $\\left(\\sum_{k=1}^n (|a_k|^p + |b_k|^p)\\right)^\\frac{1}{p} \\leq \\left(\\left(\\sum_{k=1}^n |a_k|^p\\right)^\\frac{1}{p} \\cdot n^\\frac{1}{q} + \\left(\\sum_{k=1}^n |b_k|^p\\right)^\\frac{1}{p} \\cdot n^\\frac{1}{q}\\right)^\\frac{1}{p} $\\]\n",
    "\n",
    "\\[ $\\left(\\sum_{k=1}^n (|a_k + b_k|^p)\\right)^\\frac{1}{p} \\leq \\left(\\sum_{k=1}^n |a_k|^p\\right)^\\frac{1}{p} + \\left(\\sum_{k=1}^n |b_k|^p\\right)^\\frac{1}{p} $\\]\n",
    "\n",
    "Which proves Minkowski's Inequality.\n",
    "\n",
    "---"
   ]
  },
  {
   "cell_type": "markdown",
   "metadata": {},
   "source": [
    "3. Prove the triangle inequality $|x+y| \\leq |x| + |y|, \\forall (x,y) \\in \\mathbb{R}$\n",
    "\n",
    "To prove the triangle inequality $|x+y| \\leq |x| + |y|$ for all $(x,y) \\in \\mathbb{R}$, we consider several cases:\n",
    "\n",
    "1. **Both $x$ and $y$ are non-negative or zero**: In this case, $|x+y| = |x| + |y|$ since both sides are equal to $x+y$.\n",
    "\n",
    "2. **$x$ is negative and $y$ is non-negative or zero**: Here, $|x+y| = |y - (-x)| = |y-x|$. Now, $|x| = -x$ and $|y| = y$, so $|x| + |y| = -x + y$. Since $y \\geq 0$ and $-x \\leq 0$, $|x| + |y| \\geq |y-x|$. Hence, $|x+y| \\leq |x| + |y|$.\n",
    "\n",
    "3. **$x$ is non-negative or zero and $y$ is negative**: Similar to the previous case, we can show that $|x+y| \\leq |x| + |y|$.\n",
    "\n",
    "4. **Both $x$ and $y$ are negative**: Here, $|x+y| = |(-x) + (-y)| = |-x-y|$. Since both $-x$ and $-y$ are non-negative, by the first case, $|-x-y| = |-x| + |-y| = |x| + |y|$. Thus, $|x+y| \\leq |x| + |y|$.\n",
    "\n",
    "Therefore, in all cases, we've shown that $|x+y| \\leq |x| + |y|$ for all $(x,y) \\in \\mathbb{R}$. This completes the proof.\n",
    "\n",
    "\n",
    "---"
   ]
  },
  {
   "cell_type": "markdown",
   "metadata": {},
   "source": [
    "4. Prove Sedrakayan's Lemma $\\forall u_i, v_i \\in \\mathbb{R}^+$:\n",
    "\n",
    "Let $\\mathbf{u} = (u_1, u_2, ..., u_n)$ and $\\mathbf{v} = (v_1, v_2, ..., v_n)$ be vectors in $\\mathbb{R}^+$.\n",
    "\n",
    "Through the Cauchy-Schwarz inequality, we get the following sums from...\n",
    "\n",
    "...$u_i$:\n",
    "- $\\left(\\sum_{i=1}^n u_i\\right)^2 \\leq n \\left(\\sum_{i=1}^n u_i^2\\right)$\n",
    "\n",
    "...$\\sqrt{v_i}$:\n",
    "- $\\left(\\sum_{i=1}^n \\sqrt{v_i}\\right)^2 \\leq n \\left(\\sum_{i=1}^n v_i\\right)$\n",
    "\n",
    "Rearranging, we get:\n",
    "- $\\frac{\\left(\\sum_{i=1}^n u_i\\right)^2}{\\sum_{i=1}^n v_i} \\leq \\frac{\\sum_{i=1}^n u_i^2}{\\sum_{i=1}^n v_i}$\n",
    "\n",
    "Acknowledge the obtained expression as the final form:\n",
    "\\begin{gathered} \\frac{\\left(\\sum_{i=1}^n u_i\\right)^2}{\\sum_{i=1}^n v_i} \\leq \\frac{\\sum_{i=1}^n u_i^2}{\\sum_{i=1}^n v_i} \\end{gathered}"
   ]
  }
 ],
 "metadata": {
  "language_info": {
   "name": "python"
  }
 },
 "nbformat": 4,
 "nbformat_minor": 2
}
